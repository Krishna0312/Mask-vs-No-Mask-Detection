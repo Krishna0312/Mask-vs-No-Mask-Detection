{
  "nbformat": 4,
  "nbformat_minor": 0,
  "metadata": {
    "colab": {
      "name": "Real_time_mask_detection.ipynb",
      "provenance": [],
      "collapsed_sections": []
    },
    "kernelspec": {
      "name": "python3",
      "display_name": "Python 3"
    },
    "language_info": {
      "name": "python"
    }
  },
  "cells": [
    {
      "cell_type": "markdown",
      "metadata": {
        "id": "ewbW3-AeGZ5c"
      },
      "source": [
        "# 1. Data preprocessing & Model building\n",
        "\n"
      ]
    },
    {
      "cell_type": "code",
      "metadata": {
        "id": "dq7U1rLMo3XV"
      },
      "source": [
        "!pip install keras-tuner -q"
      ],
      "execution_count": null,
      "outputs": []
    },
    {
      "cell_type": "code",
      "metadata": {
        "id": "DX17UOyq5vtz"
      },
      "source": [
        "# import the necessary packages\n",
        "from tensorflow.keras.preprocessing.image import ImageDataGenerator\n",
        "from tensorflow.keras.applications import MobileNetV2\n",
        "from tensorflow.keras.layers import AveragePooling2D\n",
        "from tensorflow.keras.layers import Dropout\n",
        "from tensorflow.keras.layers import Flatten\n",
        "from tensorflow.keras.layers import Dense\n",
        "from tensorflow.keras.layers import Input\n",
        "from tensorflow.keras.models import Model\n",
        "from tensorflow.keras.optimizers import Adam\n",
        "import tensorflow as tf\n",
        "from tensorflow import keras\n",
        "from tensorflow.keras.preprocessing.image import img_to_array\n",
        "from sklearn.preprocessing import LabelBinarizer\n",
        "from sklearn.model_selection import train_test_split\n",
        "from sklearn.metrics import classification_report\n",
        "from tensorflow.keras.preprocessing.image import load_img\n",
        "from tensorflow.keras.utils import to_categorical\n",
        "from tensorflow.keras.applications.mobilenet_v2 import preprocess_input\n",
        "\n",
        "from imutils import paths\n",
        "import matplotlib.pyplot as plt\n",
        "import numpy as np\n",
        "import os\n",
        "import zipfile"
      ],
      "execution_count": null,
      "outputs": []
    },
    {
      "cell_type": "code",
      "metadata": {
        "colab": {
          "base_uri": "https://localhost:8080/"
        },
        "id": "88YThLt7KvVG",
        "outputId": "beb3a9d0-282e-450f-d42b-64c03c23669a"
      },
      "source": [
        "from google.colab import drive\n",
        "drive.mount('/content/drive/')"
      ],
      "execution_count": null,
      "outputs": [
        {
          "output_type": "stream",
          "text": [
            "Drive already mounted at /content/drive/; to attempt to forcibly remount, call drive.mount(\"/content/drive/\", force_remount=True).\n"
          ],
          "name": "stdout"
        }
      ]
    },
    {
      "cell_type": "code",
      "metadata": {
        "id": "qkXnFHuwDAfK"
      },
      "source": [
        "#!wget --no-check-certificate \\\n",
        "#    \"https://github.com/prajnasb/obatch_sizeervations/archive/refs/heads/master.zip\" \\\n",
        "#    -O \"/tmp/obatch_sizeervations.zip\"\n",
        "\n",
        "\n",
        "#zip_ref = zipfile.ZipFile('/tmp/obatch_sizeervations.zip', 'r') #Opens the zip file in read mode\n",
        "#zip_ref.extractall('/tmp') #Extracts the files into the /tmp folder\n",
        "#zip_ref.close()"
      ],
      "execution_count": null,
      "outputs": []
    },
    {
      "cell_type": "code",
      "metadata": {
        "colab": {
          "base_uri": "https://localhost:8080/"
        },
        "id": "H4VAKCed57bA",
        "outputId": "2fc48321-1013-4747-8113-7dbc7eca8bbf"
      },
      "source": [
        "lr = 1e-3\n",
        "epoch = 30 #25,35,40\n",
        "batch_size = 16 \n",
        "\n",
        "DIRECTORY = \"/content/drive/My Drive/FaceMaskDetection-main/FaceMaskDetection-main/data/data/\" #C:\\Python\\FaceMaskDetection-main\\FaceMaskDetection-main\\data\n",
        "TEST = \"/content/drive/My Drive/face_mask_test/test_images/\"\n",
        "CATEGORIES = [\"with_mask\", \"without_mask\"]\n",
        "\n",
        "# grab the list of images in our dataset directory, then initialize\n",
        "# the list of data (i.e., images) and class images\n",
        "print(\"[INFO] loading images...\")"
      ],
      "execution_count": null,
      "outputs": [
        {
          "output_type": "stream",
          "text": [
            "[INFO] loading images...\n"
          ],
          "name": "stdout"
        }
      ]
    },
    {
      "cell_type": "code",
      "metadata": {
        "id": "OrdK6GNs57b-"
      },
      "source": [
        "data = []\n",
        "labels = []\n",
        "\n",
        "for category in CATEGORIES:\n",
        "    path = os.path.join(DIRECTORY, category)\n",
        "    for img in os.listdir(path):\n",
        "    \timg_path = os.path.join(path, img)\n",
        "    \timage = load_img(img_path, target_size=(224, 224))    #299, 299 : inceptionresnetv2\n",
        "    \timage = img_to_array(image)\n",
        "    \timage = preprocess_input(image)\n",
        "\n",
        "    \tdata.append(image)\n",
        "    \tlabels.append(category)"
      ],
      "execution_count": null,
      "outputs": []
    },
    {
      "cell_type": "code",
      "metadata": {
        "id": "XdEGMMz_57gA"
      },
      "source": [
        "# perform one-hot encoding on the labels\n",
        "lb = LabelBinarizer()\n",
        "labels = lb.fit_transform(labels)\n",
        "labels = to_categorical(labels)\n",
        "\n",
        "data = np.array(data, dtype=\"float32\")\n",
        "labels = np.array(labels)"
      ],
      "execution_count": null,
      "outputs": []
    },
    {
      "cell_type": "code",
      "metadata": {
        "id": "17I5-f-N57g3"
      },
      "source": [
        "(x_train, x_test, y_train, y_test) = train_test_split(data, labels,\n",
        "\ttest_size=0.10, stratify=labels, random_state=42)"
      ],
      "execution_count": null,
      "outputs": []
    },
    {
      "cell_type": "code",
      "metadata": {
        "id": "qWDUN_oL57la"
      },
      "source": [
        "# construct the training image generator for data augmentation\n",
        "aug = ImageDataGenerator(\n",
        "\trotation_range=20,\n",
        "\tzoom_range=0.15,\n",
        "\twidth_shift_range=0.2,\n",
        "\theight_shift_range=0.2,\n",
        "\tshear_range=0.15,\n",
        "\thorizontal_flip=True,\n",
        "  vertical_flip = True,\n",
        "\tfill_mode=\"nearest\")"
      ],
      "execution_count": null,
      "outputs": []
    },
    {
      "cell_type": "code",
      "metadata": {
        "colab": {
          "base_uri": "https://localhost:8080/"
        },
        "id": "Riw72E-Y57zD",
        "outputId": "5d1bdde0-d41d-4bbf-f020-d3b69de28e31"
      },
      "source": [
        "# load the MobileNetV2 network, ensuring the head FC layer sets are\n",
        "# left off\n",
        "baseModel = MobileNetV2(weights=\"imagenet\", include_top=False,\n",
        "\tinput_tensor=Input(shape=(224, 224, 3)))\n",
        "\n",
        "\n",
        "#baseModel = InceptionResNetV2(include_top=False, weights=\"imagenet\", input_tensor=Input(shape=(299, 299, 3)))\n",
        "\n",
        "#baseModel = tf.keras.applications.InceptionV3(include_top=False, weights=\"imagenet\", input_tensor=Input(shape=(299,299,3)), classifier_activation=\"softmax\") #classes=1000"
      ],
      "execution_count": null,
      "outputs": [
        {
          "output_type": "stream",
          "text": [
            "WARNING:tensorflow:`input_shape` is undefined or non-square, or `rows` is not in [96, 128, 160, 192, 224]. Weights for input shape (224, 224) will be loaded as the default.\n"
          ],
          "name": "stdout"
        }
      ]
    },
    {
      "cell_type": "code",
      "metadata": {
        "id": "rkOK9GHO6ltL"
      },
      "source": [
        "\n",
        "headModel = baseModel.output\n",
        "headModel = AveragePooling2D(pool_size=(7, 7))(headModel)\n",
        "headModel = Flatten(name=\"flatten\")(headModel)\n",
        "headModel = Dense(128, activation=\"relu\")(headModel)\n",
        "headModel = Dropout(0.3)(headModel)  \n",
        "headModel = Dense(2, activation=\"softmax\")(headModel)\n",
        "\n",
        "\n",
        "model = Model(inputs=baseModel.input, outputs=headModel)"
      ],
      "execution_count": null,
      "outputs": []
    },
    {
      "cell_type": "code",
      "metadata": {
        "id": "hE2beglW6lt-"
      },
      "source": [
        "# freezw the base model during training\n",
        "for layer in baseModel.layers:\n",
        "\tlayer.trainable = False            #true: fine tuning whole model"
      ],
      "execution_count": null,
      "outputs": []
    },
    {
      "cell_type": "code",
      "metadata": {
        "id": "Ho4ayFP4Hdwd"
      },
      "source": [
        "def scheduler(epoch, lr):\n",
        "      if epoch < 10:\n",
        "        return lr\n",
        "      else:\n",
        "        return lr * tf.math.exp(-0.1)"
      ],
      "execution_count": null,
      "outputs": []
    },
    {
      "cell_type": "code",
      "metadata": {
        "id": "GK9m_xLv6lx4"
      },
      "source": [
        "# compile our model\n",
        "callback = tf.keras.callbacks.LearningRateScheduler(scheduler, verbose=0)\n",
        "opt = Adam(learning_rate=lr, decay=lr / epoch)\n",
        "model.compile(loss=\"binary_crossentropy\", optimizer=opt, metrics=[\"accuracy\"])      "
      ],
      "execution_count": null,
      "outputs": []
    },
    {
      "cell_type": "markdown",
      "metadata": {
        "id": "QQ_6Ps0U2ayd"
      },
      "source": [
        "# 1.1 Keras Tuner"
      ]
    },
    {
      "cell_type": "code",
      "metadata": {
        "id": "CQ6eoF_Kopgl"
      },
      "source": [
        "from tensorflow.keras import layers\n",
        "from keras_tuner import RandomSearch\n",
        "\n",
        "\n",
        "def build_model(hp):\n",
        "    baseModel = MobileNetV2(weights=\"imagenet\", include_top=False, input_tensor=Input(shape=(224, 224, 3)))\n",
        "    for layer in baseModel.layers:\n",
        "\t    layer.trainable = False\n",
        "    headModel = baseModel.output\n",
        "    headModel = AveragePooling2D(pool_size=(7, 7))(headModel)\n",
        "    headModel = Flatten(name=\"flatten\")(headModel)\n",
        "    headModel = Dense(128, activation=\"relu\")(headModel)\n",
        "    headModel = Dropout(hp.Choice(\"rate\", values=[0.3,0.5]))(headModel)  \n",
        "    headModel = Dense(2, activation=\"softmax\")(headModel)\n",
        "\n",
        "\n",
        "    model = Model(inputs=baseModel.input, outputs=headModel)\n",
        "  \n",
        "    model.compile(loss=\"binary_crossentropy\", optimizer=Adam(hp.Choice(\"learning_rate\", values=[4e-4, 1e-3, 1e-4])), metrics=[\"accuracy\"])      \n",
        "    return model"
      ],
      "execution_count": null,
      "outputs": []
    },
    {
      "cell_type": "code",
      "metadata": {
        "id": "350BwJl5ow_M",
        "colab": {
          "base_uri": "https://localhost:8080/"
        },
        "outputId": "98feeaf4-dac0-4ff3-a789-866e2fa5641b"
      },
      "source": [
        "tuner = RandomSearch(\n",
        "    build_model,\n",
        "    objective=\"val_accuracy\",\n",
        "    max_trials=3,\n",
        "    executions_per_trial=2,\n",
        "    overwrite=True) #directory=\"my_dir\",project_name=\"helloworld\","
      ],
      "execution_count": null,
      "outputs": [
        {
          "output_type": "stream",
          "text": [
            "WARNING:tensorflow:`input_shape` is undefined or non-square, or `rows` is not in [96, 128, 160, 192, 224]. Weights for input shape (224, 224) will be loaded as the default.\n",
            "Downloading data from https://storage.googleapis.com/tensorflow/keras-applications/mobilenet_v2/mobilenet_v2_weights_tf_dim_ordering_tf_kernels_1.0_224_no_top.h5\n",
            "9412608/9406464 [==============================] - 0s 0us/step\n"
          ],
          "name": "stdout"
        }
      ]
    },
    {
      "cell_type": "code",
      "metadata": {
        "id": "LdRAwRIHopjL",
        "colab": {
          "base_uri": "https://localhost:8080/"
        },
        "outputId": "ff08394f-b58f-4ec8-9bea-4802fc944a22"
      },
      "source": [
        "tuner.search(x_train, y_train, epochs=2, validation_data=(x_test, y_test))"
      ],
      "execution_count": null,
      "outputs": [
        {
          "output_type": "stream",
          "text": [
            "Trial 3 Complete [00h 02m 42s]\n",
            "val_accuracy: 0.97826087474823\n",
            "\n",
            "Best val_accuracy So Far: 1.0\n",
            "Total elapsed time: 00h 08m 20s\n",
            "INFO:tensorflow:Oracle triggered exit\n"
          ],
          "name": "stdout"
        }
      ]
    },
    {
      "cell_type": "code",
      "metadata": {
        "id": "q9ryuIG4z0th",
        "colab": {
          "base_uri": "https://localhost:8080/"
        },
        "outputId": "29eb5b0a-3442-4438-c469-3fcb17624306"
      },
      "source": [
        "models = tuner.get_best_models(num_models=2)"
      ],
      "execution_count": null,
      "outputs": [
        {
          "output_type": "stream",
          "text": [
            "WARNING:tensorflow:`input_shape` is undefined or non-square, or `rows` is not in [96, 128, 160, 192, 224]. Weights for input shape (224, 224) will be loaded as the default.\n",
            "WARNING:tensorflow:`input_shape` is undefined or non-square, or `rows` is not in [96, 128, 160, 192, 224]. Weights for input shape (224, 224) will be loaded as the default.\n"
          ],
          "name": "stdout"
        }
      ]
    },
    {
      "cell_type": "code",
      "metadata": {
        "id": "LpAjyzHkz0vH",
        "colab": {
          "base_uri": "https://localhost:8080/"
        },
        "outputId": "6024e43f-591c-410f-9b1f-5e3fc4f3088d"
      },
      "source": [
        "tuner.results_summary()"
      ],
      "execution_count": null,
      "outputs": [
        {
          "output_type": "stream",
          "text": [
            "Results summary\n",
            "Results in ./untitled_project\n",
            "Showing 10 best trials\n",
            "Objective(name='val_accuracy', direction='max')\n",
            "Trial summary\n",
            "Hyperparameters:\n",
            "rate: 0.3\n",
            "learning_rate: 0.0004\n",
            "Score: 1.0\n",
            "Trial summary\n",
            "Hyperparameters:\n",
            "rate: 0.3\n",
            "learning_rate: 0.001\n",
            "Score: 1.0\n",
            "Trial summary\n",
            "Hyperparameters:\n",
            "rate: 0.3\n",
            "learning_rate: 0.0001\n",
            "Score: 0.97826087474823\n"
          ],
          "name": "stdout"
        }
      ]
    },
    {
      "cell_type": "markdown",
      "metadata": {
        "id": "LpvupN8H2E14"
      },
      "source": [
        "# 2. Model training after optimization of hyperparameters"
      ]
    },
    {
      "cell_type": "markdown",
      "metadata": {
        "id": "i2s2zTDIBbPF"
      },
      "source": [
        "<font size =5, font color ='yellow'> a) MobileNet"
      ]
    },
    {
      "cell_type": "markdown",
      "metadata": {
        "id": "VI0Y6IVF8icB"
      },
      "source": [
        "Best value: lr = 0.01 dropout rate = 0.3"
      ]
    },
    {
      "cell_type": "code",
      "metadata": {
        "colab": {
          "base_uri": "https://localhost:8080/"
        },
        "id": "LcazzQze6lyj",
        "outputId": "4ec7e639-06f6-4f27-ce33-f29db8a644d2"
      },
      "source": [
        "# train the head of the network\n",
        "\n",
        "H = model.fit(aug.flow(x_train, y_train, batch_size=batch_size), steps_per_epoch=len(x_train) // batch_size, validation_data=(x_test, y_test), validation_steps=len(x_test) // batch_size, callbacks=[callback],\n",
        "\tepochs=epoch)"
      ],
      "execution_count": null,
      "outputs": [
        {
          "output_type": "stream",
          "text": [
            "Epoch 1/30\n",
            "77/77 [==============================] - 52s 635ms/step - loss: 0.1622 - accuracy: 0.9345 - val_loss: 0.0253 - val_accuracy: 0.9928\n",
            "Epoch 2/30\n",
            "77/77 [==============================] - 48s 622ms/step - loss: 0.0424 - accuracy: 0.9894 - val_loss: 0.0390 - val_accuracy: 0.9783\n",
            "Epoch 3/30\n",
            "77/77 [==============================] - 48s 623ms/step - loss: 0.0448 - accuracy: 0.9836 - val_loss: 0.0270 - val_accuracy: 0.9855\n",
            "Epoch 4/30\n",
            "77/77 [==============================] - 48s 624ms/step - loss: 0.0252 - accuracy: 0.9926 - val_loss: 0.0138 - val_accuracy: 0.9928\n",
            "Epoch 5/30\n",
            "77/77 [==============================] - 48s 625ms/step - loss: 0.0290 - accuracy: 0.9910 - val_loss: 0.0249 - val_accuracy: 0.9928\n",
            "Epoch 6/30\n",
            "77/77 [==============================] - 48s 625ms/step - loss: 0.0177 - accuracy: 0.9943 - val_loss: 0.0339 - val_accuracy: 0.9855\n",
            "Epoch 7/30\n",
            "77/77 [==============================] - 48s 625ms/step - loss: 0.0186 - accuracy: 0.9935 - val_loss: 0.0109 - val_accuracy: 1.0000\n",
            "Epoch 8/30\n",
            "77/77 [==============================] - 48s 626ms/step - loss: 0.0258 - accuracy: 0.9926 - val_loss: 0.0158 - val_accuracy: 0.9928\n",
            "Epoch 9/30\n",
            "77/77 [==============================] - 48s 623ms/step - loss: 0.0230 - accuracy: 0.9935 - val_loss: 0.0099 - val_accuracy: 1.0000\n",
            "Epoch 10/30\n",
            "77/77 [==============================] - 48s 624ms/step - loss: 0.0265 - accuracy: 0.9869 - val_loss: 0.0340 - val_accuracy: 0.9855\n",
            "Epoch 11/30\n",
            "77/77 [==============================] - 48s 624ms/step - loss: 0.0546 - accuracy: 0.9853 - val_loss: 0.0185 - val_accuracy: 0.9928\n",
            "Epoch 12/30\n",
            "77/77 [==============================] - 48s 624ms/step - loss: 0.0227 - accuracy: 0.9918 - val_loss: 0.0154 - val_accuracy: 0.9928\n",
            "Epoch 13/30\n",
            "77/77 [==============================] - 48s 623ms/step - loss: 0.0183 - accuracy: 0.9926 - val_loss: 0.0215 - val_accuracy: 0.9928\n",
            "Epoch 14/30\n",
            "77/77 [==============================] - 48s 624ms/step - loss: 0.0065 - accuracy: 0.9992 - val_loss: 0.0194 - val_accuracy: 0.9928\n",
            "Epoch 15/30\n",
            "77/77 [==============================] - 48s 625ms/step - loss: 0.0062 - accuracy: 0.9984 - val_loss: 0.0161 - val_accuracy: 0.9928\n",
            "Epoch 16/30\n",
            "77/77 [==============================] - 48s 624ms/step - loss: 0.0056 - accuracy: 0.9992 - val_loss: 0.0253 - val_accuracy: 0.9855\n",
            "Epoch 17/30\n",
            "77/77 [==============================] - 48s 624ms/step - loss: 0.0106 - accuracy: 0.9967 - val_loss: 0.0170 - val_accuracy: 0.9928\n",
            "Epoch 18/30\n",
            "77/77 [==============================] - 48s 623ms/step - loss: 0.0150 - accuracy: 0.9943 - val_loss: 0.0208 - val_accuracy: 0.9928\n",
            "Epoch 19/30\n",
            "77/77 [==============================] - 48s 622ms/step - loss: 0.0099 - accuracy: 0.9967 - val_loss: 0.0143 - val_accuracy: 0.9928\n",
            "Epoch 20/30\n",
            "77/77 [==============================] - 48s 624ms/step - loss: 0.0156 - accuracy: 0.9959 - val_loss: 0.0203 - val_accuracy: 0.9855\n",
            "Epoch 21/30\n",
            "77/77 [==============================] - 48s 621ms/step - loss: 0.0185 - accuracy: 0.9935 - val_loss: 0.0368 - val_accuracy: 0.9855\n",
            "Epoch 22/30\n",
            "77/77 [==============================] - 48s 622ms/step - loss: 0.0054 - accuracy: 0.9984 - val_loss: 0.0188 - val_accuracy: 0.9928\n",
            "Epoch 23/30\n",
            "77/77 [==============================] - 48s 623ms/step - loss: 0.0087 - accuracy: 0.9959 - val_loss: 0.0135 - val_accuracy: 0.9928\n",
            "Epoch 24/30\n",
            "77/77 [==============================] - 48s 625ms/step - loss: 0.0042 - accuracy: 0.9984 - val_loss: 0.0166 - val_accuracy: 0.9928\n",
            "Epoch 25/30\n",
            "77/77 [==============================] - 48s 626ms/step - loss: 0.0053 - accuracy: 0.9975 - val_loss: 0.0270 - val_accuracy: 0.9855\n",
            "Epoch 26/30\n",
            "77/77 [==============================] - 48s 623ms/step - loss: 0.0062 - accuracy: 0.9984 - val_loss: 0.0168 - val_accuracy: 0.9928\n",
            "Epoch 27/30\n",
            "77/77 [==============================] - 48s 624ms/step - loss: 0.0052 - accuracy: 0.9992 - val_loss: 0.0310 - val_accuracy: 0.9855\n",
            "Epoch 28/30\n",
            "77/77 [==============================] - 48s 624ms/step - loss: 0.0089 - accuracy: 0.9959 - val_loss: 0.0198 - val_accuracy: 0.9855\n",
            "Epoch 29/30\n",
            "77/77 [==============================] - 48s 624ms/step - loss: 0.0047 - accuracy: 0.9975 - val_loss: 0.0376 - val_accuracy: 0.9855\n",
            "Epoch 30/30\n",
            "77/77 [==============================] - 48s 626ms/step - loss: 0.0061 - accuracy: 0.9984 - val_loss: 0.0185 - val_accuracy: 0.9855\n"
          ],
          "name": "stdout"
        }
      ]
    },
    {
      "cell_type": "markdown",
      "metadata": {
        "id": "KxN3MAbX8JXd"
      },
      "source": [
        "<font size =5, font color ='pink'> Model testing "
      ]
    },
    {
      "cell_type": "code",
      "metadata": {
        "id": "XjfUPyR8NX2r"
      },
      "source": [
        "tdata = []\n",
        "tlabels = []\n",
        "\n",
        "for category in CATEGORIES:\n",
        "    path = os.path.join(TEST, category)\n",
        "    for img in os.listdir(path):\n",
        "    \timg_path = os.path.join(path, img)\n",
        "    \timage = load_img(img_path, target_size=(224, 224))  #299, 299 : inceptionresnetv2\n",
        "    \timage = img_to_array(image)\n",
        "    \timage = preprocess_input(image)\n",
        "\n",
        "    \ttdata.append(image)\n",
        "    \ttlabels.append(category)\n",
        "     \n",
        "\n",
        "     \n",
        "     #x_test is working!!!!!!!!!!!!!!!!!!!!!!!!!!!!!!!!!!1"
      ],
      "execution_count": null,
      "outputs": []
    },
    {
      "cell_type": "code",
      "metadata": {
        "id": "n_3JbVgU6l3j"
      },
      "source": [
        "# make predictions on the testing set\n",
        "print(\"[INFO] evaluating network...\")\n",
        "predIdxs = model.predict(tdata, batch_size=batch_size)"
      ],
      "execution_count": null,
      "outputs": []
    },
    {
      "cell_type": "code",
      "metadata": {
        "id": "ADGsjkYi6_CU"
      },
      "source": [
        "# for each image in the testing set we need to find the index of the\n",
        "# label with corresponding largest predicted probability\n",
        "predIdxs = np.argmax(predIdxs, axis=1)"
      ],
      "execution_count": null,
      "outputs": []
    },
    {
      "cell_type": "code",
      "metadata": {
        "id": "8S0SUPIYi4ro"
      },
      "source": [
        "from sklearn.metrics import accuracy_score\n",
        "acc = accuracy_score(tlabels, predIdxs)"
      ],
      "execution_count": null,
      "outputs": []
    },
    {
      "cell_type": "code",
      "metadata": {
        "id": "4pDCD-UQjNXz"
      },
      "source": [
        "print(\"Test accuracy: \", acc)"
      ],
      "execution_count": null,
      "outputs": []
    },
    {
      "cell_type": "code",
      "metadata": {
        "id": "auUII_In6_DW"
      },
      "source": [
        "import tensorflow as tf\n",
        "\n",
        "# show a nicely formatted classification report\n",
        "print(classification_report(y_test.argmax(axis=1), predIdxs,\n",
        "\ttarget_names=lb.classes_))\n",
        "\n",
        "# serialize the model to disk\n",
        "print(\"[INFO] saving mask detector model...\")\n",
        "save_path = os.path.join(DIRECTORY, \"mobilenet/\")\n",
        "model.save(\"face_mask_detector1.model\", save_path) #tf.saved_model.save(model, save_path)\n",
        "#model.save(\"face_mask_detector.model\", save_format=\"h5\")"
      ],
      "execution_count": null,
      "outputs": []
    },
    {
      "cell_type": "code",
      "metadata": {
        "colab": {
          "base_uri": "https://localhost:8080/",
          "height": 299
        },
        "id": "bXrjCc4N6_Hi",
        "outputId": "32c2db53-4b71-4007-9ee3-27f0e6ef09a6"
      },
      "source": [
        "# plot the training loss and accuracy\n",
        "N = epoch\n",
        "plt.style.use(\"ggplot\")\n",
        "plt.figure()\n",
        "plt.plot(np.arange(0, N), H.history[\"loss\"], label=\"train_loss\")\n",
        "plt.plot(np.arange(0, N), H.history[\"val_loss\"], label=\"val_loss\")\n",
        "plt.plot(np.arange(0, N), H.history[\"accuracy\"], label=\"train_acc\")\n",
        "plt.plot(np.arange(0, N), H.history[\"val_accuracy\"], label=\"val_acc\")\n",
        "plt.title(\"Training Loss and Accuracy\")\n",
        "plt.xlabel(\"Epoch #\")\n",
        "plt.ylabel(\"Loss/Accuracy\")\n",
        "plt.legend(loc=\"lower left\")\n",
        "plt.savefig(\"plot.png\")"
      ],
      "execution_count": null,
      "outputs": [
        {
          "output_type": "display_data",
          "data": {
            "image/png": "[encoded data removed]",
            "text/plain": [
              "<Figure size 432x288 with 1 Axes>"
            ]
          },
          "metadata": {
            "tags": []
          }
        }
      ]
    },
    {
      "cell_type": "markdown",
      "metadata": {
        "id": "zkyYlv_C-0Zi"
      },
      "source": [
        "# <font size =5, font color ='yellow'> b) InceptionResNetV2"
      ]
    },
    {
      "cell_type": "code",
      "metadata": {
        "id": "HpTKCO6X-nqa"
      },
      "source": [
        "bm = InceptionResNetV2(include_top=False, weights=\"imagenet\", input_tensor=Input(shape=(299, 299, 3)))"
      ],
      "execution_count": null,
      "outputs": []
    },
    {
      "cell_type": "code",
      "metadata": {
        "id": "cWpcAMwD_TFR"
      },
      "source": [
        "\n",
        "hm = bm.output\n",
        "hm = AveragePooling2D(pool_size=(7, 7))(hm)\n",
        "hm = Flatten(name=\"flatten\")(hm)\n",
        "hm = Dense(128, activation=\"relu\")(hm)\n",
        "hm = Dropout(0.3)(hm)  \n",
        "hm = Dense(2, activation=\"softmax\")(hm)\n",
        "\n",
        "\n",
        "model2 = Model(inputs=bm.input, outputs=hm)"
      ],
      "execution_count": null,
      "outputs": []
    },
    {
      "cell_type": "code",
      "metadata": {
        "id": "8ulTzZgC_auC"
      },
      "source": [
        "# freezw the base model during training\n",
        "for layer in bm.layers:\n",
        "\tlayer.trainable = False            #true: fine tuning whole model"
      ],
      "execution_count": null,
      "outputs": []
    },
    {
      "cell_type": "code",
      "metadata": {
        "id": "32UDdtt1_gUk"
      },
      "source": [
        "def scheduler(epoch, lr):\n",
        "      if epoch < 10:\n",
        "        return lr\n",
        "      else:\n",
        "        return lr * tf.math.exp(-0.1)"
      ],
      "execution_count": null,
      "outputs": []
    },
    {
      "cell_type": "code",
      "metadata": {
        "id": "Ru_84P8L_nKR"
      },
      "source": [
        "# compile our model\n",
        "callback = tf.keras.callbacks.LearningRateScheduler(scheduler, verbose=0)\n",
        "opt = Adam(learning_rate=lr, decay=lr / epoch)\n",
        "model2.compile(loss=\"binary_crossentropy\", optimizer=opt, metrics=[\"accuracy\"])      "
      ],
      "execution_count": null,
      "outputs": []
    },
    {
      "cell_type": "code",
      "metadata": {
        "id": "jTSSYbsXEjn_"
      },
      "source": [
        "# train the head of the network\n",
        "\n",
        "H = model.fit(aug.flow(x_train, y_train, batch_size=batch_size), steps_per_epoch=len(x_train) // batch_size, validation_data=(x_test, y_test), validation_steps=len(x_test) // batch_size, callbacks=[callback],\n",
        "\tepochs=12)"
      ],
      "execution_count": null,
      "outputs": []
    },
    {
      "cell_type": "markdown",
      "metadata": {
        "id": "nHiiwgFrCPF8"
      },
      "source": [
        "<font size =5, font color ='pink'> Model testing"
      ]
    },
    {
      "cell_type": "code",
      "metadata": {
        "id": "deqwo6bWAe8J"
      },
      "source": [
        "tdata = []\n",
        "tlabels = []\n",
        "\n",
        "for category in CATEGORIES:\n",
        "    path = os.path.join(TEST, category)\n",
        "    for img in os.listdir(path):\n",
        "    \timg_path = os.path.join(path, img)\n",
        "    \timage = load_img(img_path, target_size=(224, 224))  #299, 299 : inceptionresnetv2\n",
        "    \timage = img_to_array(image)\n",
        "    \timage = preprocess_input(image)\n",
        "\n",
        "    \ttdata.append(image)\n",
        "    \ttlabels.append(category)"
      ],
      "execution_count": null,
      "outputs": []
    },
    {
      "cell_type": "code",
      "metadata": {
        "id": "ir0Qt8xtAkmk"
      },
      "source": [
        "# make predictions on the testing set\n",
        "print(\"[INFO] evaluating network...\")\n",
        "predIdxs = model.predict(tdata, batch_size=batch_size)"
      ],
      "execution_count": null,
      "outputs": []
    },
    {
      "cell_type": "code",
      "metadata": {
        "id": "BiKQFPYFArSM"
      },
      "source": [
        "# for each image in the testing set we need to find the index of the\n",
        "# label with corresponding largest predicted probability\n",
        "predIdxs = np.argmax(predIdxs, axis=1)"
      ],
      "execution_count": null,
      "outputs": []
    },
    {
      "cell_type": "code",
      "metadata": {
        "id": "_0bXkPQYAyjv"
      },
      "source": [
        "import tensorflow as tf\n",
        "\n",
        "# show a nicely formatted classification report\n",
        "print(classification_report(y_test.argmax(axis=1), predIdxs,\n",
        "\ttarget_names=lb.classes_))\n",
        "\n",
        "save_path = os.path.join(DIRECTORY, \"incepresnet/\")\n",
        "model.save(\"face_mask_detector2.model\", save_path)\n",
        "#model.save(\"face_mask_detector.model\", save_format=\"h5\")"
      ],
      "execution_count": null,
      "outputs": []
    },
    {
      "cell_type": "markdown",
      "metadata": {
        "id": "YZ1WyXYb-xVd"
      },
      "source": [
        "# <font size =5, font color ='yellow'> c) InceptionV3"
      ]
    },
    {
      "cell_type": "code",
      "metadata": {
        "id": "CzKmmMht-sDJ"
      },
      "source": [
        "baseModel = tf.keras.applications.InceptionV3(include_top=False, weights=\"imagenet\", input_tensor=Input(shape=(299,299,3)), classifier_activation=\"softmax\") #classes=1000"
      ],
      "execution_count": null,
      "outputs": []
    },
    {
      "cell_type": "code",
      "metadata": {
        "id": "ZTK3ej7f_Tyx"
      },
      "source": [
        "\n",
        "headModel = baseModel.output\n",
        "headModel = AveragePooling2D(pool_size=(7, 7))(headModel)\n",
        "headModel = Flatten(name=\"flatten\")(headModel)\n",
        "headModel = Dense(128, activation=\"relu\")(headModel)\n",
        "headModel = Dropout(0.3)(headModel)  \n",
        "headModel = Dense(2, activation=\"softmax\")(headModel)\n",
        "\n",
        "\n",
        "model = Model(inputs=baseModel.input, outputs=headModel)"
      ],
      "execution_count": null,
      "outputs": []
    },
    {
      "cell_type": "code",
      "metadata": {
        "id": "a4yfWukT_b40"
      },
      "source": [
        "# freezw the base model during training\n",
        "for layer in baseModel.layers:\n",
        "\tlayer.trainable = False            #true: fine tuning whole model"
      ],
      "execution_count": null,
      "outputs": []
    },
    {
      "cell_type": "code",
      "metadata": {
        "id": "NdQkLyBX_hfd"
      },
      "source": [
        "def scheduler(epoch, lr):\n",
        "      if epoch < 10:\n",
        "        return lr\n",
        "      else:\n",
        "        return lr * tf.math.exp(-0.1)"
      ],
      "execution_count": null,
      "outputs": []
    },
    {
      "cell_type": "code",
      "metadata": {
        "id": "jF4wUxkJ_o63"
      },
      "source": [
        "# compile our model\n",
        "callback = tf.keras.callbacks.LearningRateScheduler(scheduler, verbose=0)\n",
        "opt = Adam(learning_rate=lr, decay=lr / epoch)\n",
        "model.compile(loss=\"binary_crossentropy\", optimizer=opt, metrics=[\"accuracy\"])      "
      ],
      "execution_count": null,
      "outputs": []
    },
    {
      "cell_type": "code",
      "metadata": {
        "id": "ZvebRD0WErPS"
      },
      "source": [
        "# train the head of the network\n",
        "\n",
        "H = model.fit(aug.flow(x_train, y_train, batch_size=batch_size), steps_per_epoch=len(x_train) // batch_size, validation_data=(x_test, y_test), validation_steps=len(x_test) // batch_size, callbacks=[callback],\n",
        "\tepochs=12)"
      ],
      "execution_count": null,
      "outputs": []
    },
    {
      "cell_type": "markdown",
      "metadata": {
        "id": "NnMI019vCUKn"
      },
      "source": [
        "<font size =5, font color ='pink'> Model testing"
      ]
    },
    {
      "cell_type": "code",
      "metadata": {
        "id": "oyLHA-_aAgMW"
      },
      "source": [
        "tdata = []\n",
        "tlabels = []\n",
        "\n",
        "for category in CATEGORIES:\n",
        "    path = os.path.join(TEST, category)\n",
        "    for img in os.listdir(path):\n",
        "    \timg_path = os.path.join(path, img)\n",
        "    \timage = load_img(img_path, target_size=(224, 224))  #299, 299 : inceptionresnetv2\n",
        "    \timage = img_to_array(image)\n",
        "    \timage = preprocess_input(image)\n",
        "\n",
        "    \ttdata.append(image)\n",
        "    \ttlabels.append(category)"
      ],
      "execution_count": null,
      "outputs": []
    },
    {
      "cell_type": "code",
      "metadata": {
        "id": "lgFxEeCbAjJf"
      },
      "source": [
        "# make predictions on the testing set\n",
        "print(\"[INFO] evaluating network...\")\n",
        "predIdxs = model.predict(tdata, batch_size=batch_size)"
      ],
      "execution_count": null,
      "outputs": []
    },
    {
      "cell_type": "code",
      "metadata": {
        "id": "jeqgbQWcAqJl"
      },
      "source": [
        "# for each image in the testing set we need to find the index of the\n",
        "# label with corresponding largest predicted probability\n",
        "predIdxs = np.argmax(predIdxs, axis=1)"
      ],
      "execution_count": null,
      "outputs": []
    },
    {
      "cell_type": "code",
      "metadata": {
        "id": "zBMU_YjVAuiU"
      },
      "source": [
        "import tensorflow as tf\n",
        "\n",
        "# show a nicely formatted classification report\n",
        "print(classification_report(y_test.argmax(axis=1), predIdxs,\n",
        "\ttarget_names=lb.classes_))\n",
        "\n",
        "save_path = os.path.join(DIRECTORY, \"incept/\")\n",
        "model.save(\"face_mask_detector3.model\", save_path)\n",
        "#model.save(\"face_mask_detector.model\", save_format=\"h5\")"
      ],
      "execution_count": null,
      "outputs": []
    },
    {
      "cell_type": "markdown",
      "metadata": {
        "id": "4rx20L5BGn_V"
      },
      "source": [
        "# 3. Testing model on real-time data"
      ]
    },
    {
      "cell_type": "code",
      "metadata": {
        "id": "fGmJrqNvGyGA"
      },
      "source": [
        "# import the necessary packages\n",
        "from tensorflow.keras.applications.mobilenet_v2 import preprocess_input\n",
        "from tensorflow.keras.preprocessing.image import img_to_array\n",
        "from tensorflow.keras.models import load_model\n",
        "from imutils.video import VideoStream\n",
        "import numpy as np\n",
        "import imutils\n",
        "import time\n",
        "import cv2\n",
        "import os\n"
      ],
      "execution_count": null,
      "outputs": []
    },
    {
      "cell_type": "code",
      "metadata": {
        "id": "uFaz8RiqGyKP"
      },
      "source": [
        "\n",
        "def detect_and_predict_mask(frame, faceNet, maskNet):\n",
        "\t# grab the dimensions of the frame and then construct a blob\n",
        "\t# from it\n",
        "\t(h, w) = frame.shape[:2]\n",
        "\tblob = cv2.dnn.blobFromImage(frame, 1.0, (224, 224),\n",
        "\t\t(104.0, 177.0, 123.0))\n",
        "\n",
        "\t# pass the blob through the network and obtain the face detections\n",
        "\tfaceNet.setInput(blob)\n",
        "\tdetections = faceNet.forward()\n",
        "\tprint(detections.shape)\n",
        "\n",
        "\t# initialize our list of faces, their corresponding locations,\n",
        "\t# and the list of predictions from our face mask network\n",
        "\tfaces = []\n",
        "\tlocs = []\n",
        "\tpreds = []\n",
        "\n",
        "\t# loop over the detections\n",
        "\tfor i in range(0, detections.shape[2]):\n",
        "\t\t# extract the confidence (i.e., probability) associated with\n",
        "\t\t# the detection\n",
        "\t\tconfidence = detections[0, 0, i, 2]\n",
        "\n",
        "\t\t# filter out weak detections by ensuring the confidence is\n",
        "\t\t# greater than the minimum confidence\n",
        "\t\tif confidence > 0.5:\n",
        "\t\t\t# compute the (x, y)-coordinates of the bounding box for\n",
        "\t\t\t# the object\n",
        "\t\t\tbox = detections[0, 0, i, 3:7] * np.array([w, h, w, h])\n",
        "\t\t\t(startX, startY, endX, endY) = box.astype(\"int\")\n",
        "\n",
        "\t\t\t# ensure the bounding boxes fall within the dimensions of\n",
        "\t\t\t# the frame\n",
        "\t\t\t(startX, startY) = (max(0, startX), max(0, startY))\n",
        "\t\t\t(endX, endY) = (min(w - 1, endX), min(h - 1, endY))\n",
        "            \n",
        "            \n",
        "            \n",
        "            \n",
        "            \n",
        "            \n",
        "\n",
        "\t\t\t# extract the face ROI, convert it from BGR to RGB channel\n",
        "\t\t\t# ordering, resize it to 224x224, and preprocess it\n",
        "\t\t\tface = frame[startY:endY, startX:endX]\n",
        "\t\t\tface = cv2.cvtColor(face, cv2.COLOR_BGR2RGB)\n",
        "\t\t\tface = cv2.resize(face, (224, 224))\n",
        "\t\t\tface = img_to_array(face)\n",
        "\t\t\tface = preprocess_input(face)\n",
        "\n",
        "\t\t\t# add the face and bounding boxes to their respective\n",
        "\t\t\t# lists\n",
        "\t\t\tfaces.append(face)\n",
        "\t\t\tlocs.append((startX, startY, endX, endY))\n",
        "            \n",
        "            \n",
        "            \n",
        "\n",
        "\t# only make a predictions if at least one face was detected\n",
        "\tif len(faces) > 0:\n",
        "\t\t# for faster inference we'll make batch predictions on *all*\n",
        "\t\t# faces at the same time rather than one-by-one predictions\n",
        "\t\t# in the above `for` loop\n",
        "\t\tfaces = np.array(faces, dtype=\"float32\")\n",
        "\t\tpreds = maskNet.predict(faces, batch_size=32)\n",
        "\n",
        "\t# return a 2-tuple of the face locations and their corresponding\n",
        "\t# locations\n",
        "\treturn (locs, preds)"
      ],
      "execution_count": null,
      "outputs": []
    },
    {
      "cell_type": "code",
      "metadata": {
        "id": "-tEstMm6GyLK"
      },
      "source": [
        "# load our serialized face detector model from disk\n",
        "prototxtPath = r\"face_detector\\deploy.prototxt\"\n",
        "weightsPath = r\"face_detector\\res10_300x300_ssd_iter_140000.caffemodel\"\n",
        "faceNet = cv2.dnn.readNet(prototxtPath, weightsPath)"
      ],
      "execution_count": null,
      "outputs": []
    },
    {
      "cell_type": "code",
      "metadata": {
        "id": "6kqRkFoRFisd"
      },
      "source": [
        "\n",
        "# load the face mask detector model from disk\n",
        "maskNet = load_model(\"mask_detector.model\")"
      ],
      "execution_count": null,
      "outputs": []
    },
    {
      "cell_type": "code",
      "metadata": {
        "id": "wYLNErWRFitd"
      },
      "source": [
        "# initialize the video stream\n",
        "print(\"[INFO] starting video stream...\")\n",
        "vs = VideoStream(src=0).start()"
      ],
      "execution_count": null,
      "outputs": []
    },
    {
      "cell_type": "code",
      "metadata": {
        "id": "YHzjV9GQFtVc"
      },
      "source": [
        "\n",
        "# loop over the frames from the video stream\n",
        "while True:\n",
        "\t# grab the frame from the threaded video stream and resize it\n",
        "\t# to have a maximum width of 400 pixels\n",
        "\tframe = vs.read()\n",
        "\tframe = imutils.resize(frame, width=400)\n",
        "\n",
        "\t# detect faces in the frame and determine if they are wearing a\n",
        "\t# face mask or not\n",
        "\t(locs, preds) = detect_and_predict_mask(frame, faceNet, maskNet)\n",
        "\n",
        "\t# loop over the detected face locations and their corresponding\n",
        "\t# locations\n",
        "\tfor (box, pred) in zip(locs, preds):\n",
        "\t\t# unpack the bounding box and predictions\n",
        "\t\t(startX, startY, endX, endY) = box\n",
        "\t\t(mask, withoutMask) = pred\n",
        "\n",
        "\t\t# determine the class label and color we'll use to draw\n",
        "\t\t# the bounding box and text\n",
        "\t\tlabel = \"Mask\" if mask > withoutMask else \"No Mask\"\n",
        "\t\tcolor = (0, 255, 0) if label == \"Mask\" else (0, 0, 255)\n",
        "\n",
        "\t\t# include the probability in the label\n",
        "\t\tlabel = \"{}: {:.2f}%\".format(label, max(mask, withoutMask) * 100)\n",
        "\n",
        "\t\t# display the label and bounding box rectangle on the output\n",
        "\t\t# frame\n",
        "\t\tcv2.putText(frame, label, (startX, startY - 10),\n",
        "\t\t\tcv2.FONT_HERSHEY_SIMPLEX, 0.45, color, 2)\n",
        "\t\tcv2.rectangle(frame, (startX, startY), (endX, endY), color, 2)\n",
        "\n",
        "\t# show the output frame\n",
        "\tcv2.imshow(\"Frame\", frame)\n",
        "\tkey = cv2.waitKey(1) & 0xFF\n",
        "\n",
        "\t# if the `q` key was pressed, break from the loop\n",
        "\tif key == ord(\"q\"):\n",
        "\t\tbreak"
      ],
      "execution_count": null,
      "outputs": []
    },
    {
      "cell_type": "code",
      "metadata": {
        "id": "YKZjfHDkFvLY"
      },
      "source": [
        "cv2.destroyAllWindows()\n",
        "vs.stop()"
      ],
      "execution_count": null,
      "outputs": []
    }
  ]
}